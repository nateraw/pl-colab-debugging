{
  "nbformat": 4,
  "nbformat_minor": 0,
  "metadata": {
    "colab": {
      "name": "base.ipynb",
      "provenance": [],
      "collapsed_sections": [],
      "authorship_tag": "ABX9TyPOguD6jHWFHA41XW+Q2IsV",
      "include_colab_link": true
    },
    "kernelspec": {
      "name": "python3",
      "display_name": "Python 3"
    }
  },
  "cells": [
    {
      "cell_type": "markdown",
      "metadata": {
        "id": "view-in-github",
        "colab_type": "text"
      },
      "source": [
        "<a href=\"https://colab.research.google.com/github/nateraw/pl-colab-debugging/blob/main/base.ipynb\" target=\"_parent\"><img src=\"https://colab.research.google.com/assets/colab-badge.svg\" alt=\"Open In Colab\"/></a>"
      ]
    },
    {
      "cell_type": "code",
      "metadata": {
        "id": "hP44dPqZqR--"
      },
      "source": [
        "#@title # Install Pytorch Lightning { display-mode: \"form\" }\n",
        "\n",
        "#@markdown You can specify version from dropdown or manually enter any version available on PyPi.\n",
        "\n",
        "import requests\n",
        "from bs4 import BeautifulSoup as bs\n",
        "    \n",
        "r = requests.get('https://pypi.org/rss/project/pytorch-lightning/releases.xml')\n",
        "soup = bs(r.content, 'lxml')\n",
        "available_versions = [x.text for x in soup.find_all('title')[1:]]\n",
        "\n",
        "version = 'master' #@param [\"master\", \"prerelease\"] {allow-input: true}\n",
        "\n",
        "if version == 'master':\n",
        "    install_cmd = 'pip install git+https://github.com/PytorchLightning/pytorch-lightning.git@master --upgrade --quiet'\n",
        "elif version == 'prerelease':\n",
        "    install_cmd = 'pip install pytorch-lightning --pre --upgrade --quiet'\n",
        "elif version == 'stable':\n",
        "    install_cmd = 'pip install pytorch-lightning'\n",
        "elif version in available_versions:\n",
        "    install_cmd = f'pip install pytorch-lightning=={version}'\n",
        "else:\n",
        "    if version not in available_versions:\n",
        "        raise RuntimeError(f\"Provided version {version} is not in available versions: {available_versions}\")\n",
        "! pip uninstall pytorch-lightning --quiet -y\n",
        "! {install_cmd}"
      ],
      "execution_count": null,
      "outputs": []
    },
    {
      "cell_type": "code",
      "metadata": {
        "id": "P50Oeqoc7DwN"
      },
      "source": [
        "import pytorch_lightning as pl\n",
        "import torch\n",
        "import torch.nn.functional as F\n",
        "from torch import nn"
      ],
      "execution_count": 82,
      "outputs": []
    },
    {
      "cell_type": "code",
      "metadata": {
        "id": "ZJuPYuOZ7g_F"
      },
      "source": [
        "class LitModel(pl.LightningModule):\n",
        "    def __init__(self, learning_rate=1e-3):\n",
        "        super().__init__()\n",
        "        self.save_hyperparameters()\n",
        "    \n",
        "    def forward(self, x):\n",
        "        pass\n",
        "    \n",
        "    def training_step(self, batch, batch_idx):\n",
        "        pass\n",
        "    \n",
        "    def configure_optimizers(self):\n",
        "        optimizer = torch.optim.Adam(self.parameters(), lr=self.hparams.learning_rate)\n",
        "        return optimizer"
      ],
      "execution_count": 83,
      "outputs": []
    },
    {
      "cell_type": "code",
      "metadata": {
        "id": "dZVvncXz7SBV"
      },
      "source": [
        "class LitDataModule(pl.LightningDataModule):\n",
        "    def __init__(self):\n",
        "        super().__init__()\n",
        "    \n",
        "    def prepare_data(self):\n",
        "        pass\n",
        "    \n",
        "    def setup(self):\n",
        "        pass\n",
        "    \n",
        "    def train_dataloader(self):\n",
        "        pass\n",
        "    \n",
        "    def val_dataloader(self):\n",
        "        pass\n",
        "    \n",
        "    def test_dataloader(self):\n",
        "        pass"
      ],
      "execution_count": 84,
      "outputs": []
    }
  ]
}